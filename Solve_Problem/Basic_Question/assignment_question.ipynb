{
 "cells": [
  {
   "cell_type": "markdown",
   "metadata": {},
   "source": [
    "# Lesson 1.2: Python Basics\n",
    "## Topics Covered:\n",
    "- Syntax and Semantics\n",
    "- Variables and Data Types\n",
    "- Basic Operators (Arithmetic, Comparison, Logical)\n"
   ]
  },
  {
   "cell_type": "markdown",
   "metadata": {},
   "source": [
    "## 1. Syntax and Semantics\n",
    "\n",
    "**Question 1:** Write a Python program to print \"Hello, World!\"."
   ]
  },
  {
   "cell_type": "code",
   "execution_count": 1,
   "metadata": {},
   "outputs": [
    {
     "name": "stdout",
     "output_type": "stream",
     "text": [
      "Hello World\n"
     ]
    }
   ],
   "source": [
    "print(\"Hello World\")"
   ]
  },
  {
   "cell_type": "markdown",
   "metadata": {},
   "source": [
    "**Question 2:** Write a Python program that takes a user input and prints it."
   ]
  },
  {
   "cell_type": "code",
   "execution_count": 2,
   "metadata": {},
   "outputs": [
    {
     "name": "stdout",
     "output_type": "stream",
     "text": [
      "User enter this := 3\n"
     ]
    }
   ],
   "source": [
    "x=input(\"Enter a numer:-\")\n",
    "print(\"User enter this :=\",x)"
   ]
  },
  {
   "cell_type": "markdown",
   "metadata": {},
   "source": [
    "**Question 3:** Write a Python program to check if a number is positive, negative, or zero."
   ]
  },
  {
   "cell_type": "code",
   "execution_count": 3,
   "metadata": {},
   "outputs": [
    {
     "name": "stdout",
     "output_type": "stream",
     "text": [
      "Number is Positive\n"
     ]
    }
   ],
   "source": [
    "def check_number(n):\n",
    "    if n<0:\n",
    "        print(\"Number is Negative\")\n",
    "    elif n==0:\n",
    "        print(\"Number is Zero\")\n",
    "    else:\n",
    "        print(\"Number is Positive\")\n",
    "    \n",
    "\n",
    "num=int(input(\"Enter Number to check:-\"))\n",
    "check_number(num)"
   ]
  },
  {
   "cell_type": "markdown",
   "metadata": {},
   "source": [
    "**Question 4:** Write a Python program to find the largest of three numbers."
   ]
  },
  {
   "cell_type": "code",
   "execution_count": 4,
   "metadata": {},
   "outputs": [
    {
     "name": "stdout",
     "output_type": "stream",
     "text": [
      "4 b is largest\n"
     ]
    }
   ],
   "source": [
    "def largest_number(a,b,c):\n",
    "    if a>b and a>c:\n",
    "        print(f\"{a} A is largest\")\n",
    "    elif b>a and b>c:\n",
    "        print(f\"{b} b is largest\")\n",
    "    else:\n",
    "        print(f\"{c} c is largest\")\n",
    "    \n",
    "\n",
    "a=int(input(\"Enter a number:-\"))\n",
    "b=int(input(\"Enter a number:-\"))\n",
    "c=int(input(\"Enter a number:-\"))\n",
    "\n",
    "largest_number(a,b,c)\n"
   ]
  },
  {
   "cell_type": "markdown",
   "metadata": {},
   "source": [
    "**Question 5:** Write a Python program to calculate the factorial of a number."
   ]
  },
  {
   "cell_type": "code",
   "execution_count": 5,
   "metadata": {},
   "outputs": [
    {
     "name": "stdout",
     "output_type": "stream",
     "text": [
      "Factorial of 0 is  number:- 1\n"
     ]
    }
   ],
   "source": [
    "def factorial_number(num):\n",
    "    fact=1\n",
    "    if num<0:\n",
    "        print(\"Enter value is Negative !!\")\n",
    "    elif num==1:\n",
    "        print(f\"facotoriyal:- {num}\")\n",
    "    else:\n",
    "        while num !=0:\n",
    "            fact=fact*num\n",
    "            num=num-1\n",
    "        print(f\"Factorial of {num} is  number:- {fact}\")\n",
    "    \n",
    "\n",
    "factorial_number(0)"
   ]
  },
  {
   "cell_type": "markdown",
   "metadata": {},
   "source": [
    "## 2. Variables and Data Types\n",
    "\n",
    "**Question 6:** Create variables of different data types: integer, float, string, and boolean. Print their values and types."
   ]
  },
  {
   "cell_type": "code",
   "execution_count": 6,
   "metadata": {},
   "outputs": [
    {
     "name": "stdout",
     "output_type": "stream",
     "text": [
      "Age: 90\n",
      "Name: Sandeep\n",
      "weight: 90.8\n",
      "married: False\n"
     ]
    }
   ],
   "source": [
    "age=90\n",
    "name= \"Sandeep\"\n",
    "weight=90.8\n",
    "married=False\n",
    "\n",
    "print(f\"Age: {age}\")\n",
    "print(f\"Name: {name}\")\n",
    "print(f\"weight: {weight}\")\n",
    "print(f\"married: {married}\")"
   ]
  },
  {
   "cell_type": "markdown",
   "metadata": {},
   "source": [
    "**Question 7:** Write a Python program to swap the values of two variables."
   ]
  },
  {
   "cell_type": "code",
   "execution_count": 7,
   "metadata": {},
   "outputs": [
    {
     "name": "stdout",
     "output_type": "stream",
     "text": [
      "Before Swap Number:-0,34\n",
      "Before Swap Number:-34,0\n"
     ]
    }
   ],
   "source": [
    "def swap_number(num1,num2):\n",
    "    print(f\"Before Swap Number:-{num1},{num2}\")\n",
    "    num1,num2=num2,num1\n",
    "    print(f\"Before Swap Number:-{num1},{num2}\" )\n",
    "\n",
    "\n",
    "\n",
    "x=input(\"Enter a number:-\")\n",
    "y=input(\"Enter second number:-\")\n",
    "\n",
    "swap_number(x,y)\n"
   ]
  },
  {
   "cell_type": "markdown",
   "metadata": {},
   "source": [
    "**Question 8:** Write a Python program to convert Celsius to Fahrenheit."
   ]
  },
  {
   "cell_type": "code",
   "execution_count": 8,
   "metadata": {},
   "outputs": [
    {
     "data": {
      "text/plain": [
       "'Fahrenheit: 93.2f '"
      ]
     },
     "execution_count": 8,
     "metadata": {},
     "output_type": "execute_result"
    }
   ],
   "source": [
    "def convert_c_to_f(celsius):\n",
    "    F=(celsius*9/5)+32\n",
    "    return f\"Fahrenheit: {F}f \"\n",
    "\n",
    "\n",
    "a=int(input(\"Enter a number Degree in Celsius:- \"))\n",
    "convert_c_to_f(a)\n"
   ]
  },
  {
   "cell_type": "markdown",
   "metadata": {},
   "source": [
    "**Question 9:** Write a Python program to concatenate two strings."
   ]
  },
  {
   "cell_type": "code",
   "execution_count": 9,
   "metadata": {},
   "outputs": [
    {
     "name": "stdout",
     "output_type": "stream",
     "text": [
      "Sandeep Nilesh\n"
     ]
    }
   ],
   "source": [
    "str1=\"Sandeep \"\n",
    "str2=\"Nilesh\"\n",
    "\n",
    "print(str1 + str2)"
   ]
  },
  {
   "cell_type": "markdown",
   "metadata": {},
   "source": [
    "**Question 10:** Write a Python program to check if a variable is of a specific data type."
   ]
  },
  {
   "cell_type": "code",
   "execution_count": 10,
   "metadata": {},
   "outputs": [
    {
     "name": "stdout",
     "output_type": "stream",
     "text": [
      "Enter value Data Type is :- <class 'str'>\n"
     ]
    }
   ],
   "source": [
    "def check_data_type(num):\n",
    "       print(f\"Enter value Data Type is :- {type(num)}\")\n",
    "    # if num==int:\n",
    "    #     print(f\"The data type is integer: {type(num)}\")\n",
    "    # elif num==str:\n",
    "    #     print(f\"Enter value Data Type is String:- {type(num)}\")\n",
    "    # elif num==float:\n",
    "    #    print(f\"Enter value Data Type is Float:- {type(num)}\")\n",
    "    # else:\n",
    "    #     print(f\"Enter value Data Type is boolian:- {type(num)}\")\n",
    "    \n",
    "a=\"Sandeep\"\n",
    "check_data_type(a)\n",
    "    "
   ]
  },
  {
   "cell_type": "markdown",
   "metadata": {},
   "source": [
    "## 3. Basic Operators (Arithmetic, Comparison, Logical)\n",
    "\n",
    "**Question 11:** Write a Python program to perform arithmetic operations: addition, subtraction, multiplication, and division."
   ]
  },
  {
   "cell_type": "code",
   "execution_count": 25,
   "metadata": {},
   "outputs": [
    {
     "name": "stdout",
     "output_type": "stream",
     "text": [
      "Addition: 51\n",
      "Subtraction: 39\n",
      "Multiply: 270\n",
      "Division: 7.5\n"
     ]
    }
   ],
   "source": [
    "class Operators:\n",
    "    def __init__(self, a, b):\n",
    "        self.a = a\n",
    "        self.b = b\n",
    "\n",
    "    def add(self):\n",
    "        return f\"Addition: {self.a + self.b}\"\n",
    "\n",
    "    def sub(self):\n",
    "        return f\"Subtraction: {self.a - self.b}\"\n",
    "\n",
    "    def multiplication(self):\n",
    "        return f\"Multiply: {self.a * self.b}\"\n",
    "\n",
    "    def division(self):\n",
    "        if self.b == 0:\n",
    "            return \"Division: undefined (division by zero)\"\n",
    "        return f\"Division: {self.a / self.b}\"\n",
    "\n",
    "\n",
    "obj = Operators(45, 6)\n",
    "print(obj.add())           \n",
    "print(obj.sub())          \n",
    "print(obj.multiplication())\n",
    "print(obj.division())      \n"
   ]
  },
  {
   "cell_type": "markdown",
   "metadata": {},
   "source": [
    "**Question 12:** Write a Python program to demonstrate comparison operators: equal to, not equal to, greater than, less than."
   ]
  },
  {
   "cell_type": "code",
   "execution_count": 6,
   "metadata": {},
   "outputs": [
    {
     "name": "stdout",
     "output_type": "stream",
     "text": [
      "7 == 5 -> False\n",
      "7 != 5 -> True\n",
      "7 > 5  -> True\n",
      "7 < 5  -> False\n"
     ]
    }
   ],
   "source": [
    "\n",
    "a = 7\n",
    "b = 5\n",
    "\n",
    "print(f\"{a} == {b} -> {a == b}\")  # equal to\n",
    "print(f\"{a} != {b} -> {a != b}\")  # not equal to\n",
    "print(f\"{a} > {b}  -> {a > b}\")   # greater than\n",
    "print(f\"{a} < {b}  -> {a < b}\")   # less than\n",
    "\n",
    "# print(f\"Enqual to {a==b}\")\n",
    "# print(f\"Not Enqual to {a!=b}\")\n",
    "# print(f\"Grater Than  to {a>b}\")\n",
    "# print(f\"Less than to {a<b}\")"
   ]
  },
  {
   "cell_type": "markdown",
   "metadata": {},
   "source": [
    "**Question 13:** Write a Python program to demonstrate logical operators: and, or, not."
   ]
  },
  {
   "cell_type": "code",
   "execution_count": 17,
   "metadata": {},
   "outputs": [
    {
     "name": "stdout",
     "output_type": "stream",
     "text": [
      "and with comparisons:  False\n",
      "and with comparisons:  False\n",
      "and with comparisons:  True\n"
     ]
    }
   ],
   "source": [
    "a=2\n",
    "b=7\n",
    "c=10\n",
    "\n",
    "# Using comparisons with logical operators\n",
    "print(\"and with comparisons: \", (a>b) and (c>a))\n",
    "print(\"and with comparisons: \",(a>b) or  (c==a))\n",
    "print(\"and with comparisons: \", not (c<a))"
   ]
  },
  {
   "cell_type": "code",
   "execution_count": 20,
   "metadata": {},
   "outputs": [
    {
     "name": "stdout",
     "output_type": "stream",
     "text": [
      "X and Y:  False\n",
      "X or Y:  True\n",
      "X and Y :  True\n"
     ]
    }
   ],
   "source": [
    "#Update version\n",
    "\n",
    "#Pure Boolean Values\n",
    "\n",
    "x,y=True,False\n",
    "\n",
    "print(\"X and Y: \",x and y)\n",
    "print(\"X or Y: \",x or y)\n",
    "print(\"X and Y : \",not y)"
   ]
  },
  {
   "cell_type": "markdown",
   "metadata": {},
   "source": [
    "**Question 14:** Write a Python program to calculate the square of a number."
   ]
  },
  {
   "cell_type": "code",
   "execution_count": 29,
   "metadata": {},
   "outputs": [
    {
     "name": "stdout",
     "output_type": "stream",
     "text": [
      "1156\n"
     ]
    }
   ],
   "source": [
    "import math\n",
    "\n",
    "num=int(input(\"Enter a number to calculate square:-\"))\n",
    "print(num**2)\n",
    "# print(math.sqrt(num))"
   ]
  },
  {
   "cell_type": "markdown",
   "metadata": {},
   "source": [
    "**Question 15:** Write a Python program to check if a number is even or odd."
   ]
  },
  {
   "cell_type": "code",
   "execution_count": 37,
   "metadata": {},
   "outputs": [
    {
     "data": {
      "text/plain": [
       "'Even Number:'"
      ]
     },
     "execution_count": 37,
     "metadata": {},
     "output_type": "execute_result"
    }
   ],
   "source": [
    "def check_number(num):\n",
    "    if num%2==0:\n",
    "        return f\"Even Number:\"\n",
    "    else:\n",
    "        return f\"Odd Number\"\n",
    "\n",
    "\n",
    "check_number(10)"
   ]
  },
  {
   "cell_type": "markdown",
   "metadata": {},
   "source": [
    "**Question 16:** Write a Python program to find the sum of the first n natural numbers."
   ]
  },
  {
   "cell_type": "code",
   "execution_count": 51,
   "metadata": {},
   "outputs": [
    {
     "name": "stdout",
     "output_type": "stream",
     "text": [
      "15\n"
     ]
    }
   ],
   "source": [
    "def sum_natural(n):\n",
    "    sum=0\n",
    "    for i in range(1,n+1):\n",
    "        sum=sum+i\n",
    "    print(sum)\n",
    "\n",
    "sum_natural(5)\n"
   ]
  },
  {
   "cell_type": "code",
   "execution_count": 57,
   "metadata": {},
   "outputs": [
    {
     "data": {
      "text/plain": [
       "78.0"
      ]
     },
     "execution_count": 57,
     "metadata": {},
     "output_type": "execute_result"
    }
   ],
   "source": [
    "#update version\n",
    "def natural_number(num):\n",
    "    value=num*(num+1)/2\n",
    "    return value\n",
    "\n",
    "natural_number(12)\n",
    "    "
   ]
  },
  {
   "cell_type": "markdown",
   "metadata": {},
   "source": [
    "**Question 17:** Write a Python program to check if a year is a leap year."
   ]
  },
  {
   "cell_type": "code",
   "execution_count": 8,
   "metadata": {},
   "outputs": [
    {
     "data": {
      "text/plain": [
       "True"
      ]
     },
     "execution_count": 8,
     "metadata": {},
     "output_type": "execute_result"
    }
   ],
   "source": [
    "def check_leap(year):\n",
    "    if year%4!=0:\n",
    "        return False\n",
    "    if year%100!=0:\n",
    "        return True\n",
    "    return year%400==0\n",
    "\n",
    "\n",
    "check_leap(1200)"
   ]
  },
  {
   "cell_type": "markdown",
   "metadata": {},
   "source": [
    "**Question 18:** Write a Python program to reverse a string."
   ]
  },
  {
   "cell_type": "code",
   "execution_count": 18,
   "metadata": {},
   "outputs": [
    {
     "name": "stdout",
     "output_type": "stream",
     "text": [
      "Before String : Sandee[muhal\n",
      "('Reverse String:-', 'lahum[eednaS')\n"
     ]
    }
   ],
   "source": [
    "str=input(\"Enter a String:-\")\n",
    "print(\"Before String :\",str)\n",
    "print((\"Reverse String:-\",str[::-1]))"
   ]
  },
  {
   "cell_type": "markdown",
   "metadata": {},
   "source": [
    "**Question 19:** Write a Python program to check if a string is a palindrome."
   ]
  },
  {
   "cell_type": "code",
   "execution_count": 18,
   "metadata": {},
   "outputs": [
    {
     "name": "stdout",
     "output_type": "stream",
     "text": [
      "It is Palindrome:- radar\n",
      "It is Palindrome:- amanaplanacanalpanama\n",
      "Not palindrome sandeep\n"
     ]
    }
   ],
   "source": [
    "def check_palindrome(inputs):\n",
    "    s=inputs.lower().replace(' ','')\n",
    "    k=s[::-1]\n",
    "    if s==k:\n",
    "        print(\"It is Palindrome:-\",k)\n",
    "    else:\n",
    "        print(\"Not palindrome\",s)\n",
    "\n",
    "check_palindrome('Radar')\n",
    "check_palindrome(\"A man a plan a canal Panama\")\n",
    "check_palindrome(\"Sandeep\")"
   ]
  },
  {
   "cell_type": "markdown",
   "metadata": {},
   "source": [
    "**Question 20:** Write a Python program to sort a list of numbers in ascending order."
   ]
  },
  {
   "cell_type": "code",
   "execution_count": 12,
   "metadata": {},
   "outputs": [
    {
     "name": "stdout",
     "output_type": "stream",
     "text": [
      "[1, 2, 2, 6, 34, 45, 55, 67, 86]\n"
     ]
    }
   ],
   "source": [
    "number=[2,34,6,1,2,55,67,86,45]\n",
    "number.sort()\n",
    "\n",
    "print(number)"
   ]
  }
 ],
 "metadata": {
  "kernelspec": {
   "display_name": ".venv",
   "language": "python",
   "name": "python3"
  },
  "language_info": {
   "codemirror_mode": {
    "name": "ipython",
    "version": 3
   },
   "file_extension": ".py",
   "mimetype": "text/x-python",
   "name": "python",
   "nbconvert_exporter": "python",
   "pygments_lexer": "ipython3",
   "version": "3.12.7"
  }
 },
 "nbformat": 4,
 "nbformat_minor": 4
}
