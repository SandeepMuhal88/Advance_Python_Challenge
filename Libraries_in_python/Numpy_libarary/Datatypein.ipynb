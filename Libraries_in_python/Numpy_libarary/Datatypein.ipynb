{
 "cells": [
  {
   "cell_type": "code",
   "execution_count": 11,
   "metadata": {},
   "outputs": [],
   "source": [
    "# NumPy has some extra data types, and refer to data types with one character, like i for integers, u for unsigned integers etc.\n",
    "# Below is a list of all data types in NumPy and the characters used to represent them.\n",
    "# i - integer\n",
    "# b - boolean\n",
    "# u - unsigned integer\n",
    "# f - float\n",
    "# c - complex float\n",
    "# m - timedelta\n",
    "# M - datetime\n",
    "# O - object\n",
    "# S - string\n",
    "# U - unicode string\n",
    "# V - fixed chunk of memory for other type ( void )"
   ]
  },
  {
   "cell_type": "code",
   "execution_count": 12,
   "metadata": {},
   "outputs": [
    {
     "name": "stdout",
     "output_type": "stream",
     "text": [
      "<U6\n",
      "int64\n"
     ]
    }
   ],
   "source": [
    "# checking data types in python\n",
    "import numpy as np\n",
    "arr = np.array([1, 2, 3, 4])\n",
    "arr1= np.array(['apple', 'banana', 'cherry'])\n",
    "print(arr1.dtype)  \n",
    "print(arr.dtype)"
   ]
  },
  {
   "cell_type": "code",
   "execution_count": 26,
   "metadata": {},
   "outputs": [
    {
     "name": "stdout",
     "output_type": "stream",
     "text": [
      "|S1\n",
      "int8\n",
      "int16\n",
      "int32\n",
      "int64\n",
      "int32\n",
      "uint8\n",
      "uint16\n",
      "uint32\n",
      "uint64\n",
      "[1. 2. 3. 4.]\n",
      "float32\n"
     ]
    }
   ],
   "source": [
    "# We cas also change the data type of an array\n",
    "import numpy as np\n",
    "arr = np.array([1, 2, 3, 4], dtype='S')\n",
    "print(arr.dtype) \n",
    "\n",
    "arr = np.array([1, 2, 3, 4], dtype='i1')\n",
    "print(arr.dtype) \n",
    "\n",
    "arr = np.array([1, 2, 3, 4], dtype='i2')\n",
    "print(arr.dtype) \n",
    "\n",
    "arr = np.array([1, 2, 3, 4], dtype='i4')\n",
    "print(arr.dtype) \n",
    "\n",
    "arr = np.array([1, 2, 3, 4], dtype='i8')\n",
    "print(arr.dtype) \n",
    "\n",
    "arr = np.array([1, 2, 3, 4], dtype='i')\n",
    "print(arr.dtype) \n",
    "\n",
    "arr = np.array([1, 2, 3, 4], dtype='u1')\n",
    "print(arr.dtype) \n",
    "\n",
    "arr = np.array([1, 2, 3, 4], dtype='u2')\n",
    "print(arr.dtype) \n",
    "\n",
    "arr = np.array([1, 2, 3, 4], dtype='u4')\n",
    "print(arr.dtype) \n",
    "\n",
    "arr = np.array([1, 2, 3, 4], dtype='u8')\n",
    "print(arr.dtype) \n",
    "\n",
    "\n",
    "\n",
    "# Change data type of array\n",
    "arr = np.array([1, 2, 3, 4])\n",
    "newarr = arr.astype('f')\n",
    "print(newarr)\n",
    "print(newarr.dtype)\n"
   ]
  },
  {
   "cell_type": "code",
   "execution_count": 20,
   "metadata": {},
   "outputs": [
    {
     "name": "stdout",
     "output_type": "stream",
     "text": [
      "[42  2  3  4]\n",
      "[1 2 3 4]\n"
     ]
    }
   ],
   "source": [
    "# Make a copy, change the original array, and display both arrays:\n",
    "import numpy as np\n",
    "arr1= np.array([1, 2, 3, 4])\n",
    "arr2= arr1.copy()\n",
    "arr3=arr2.view()\n",
    "arr1[0]=10\n",
    "arr1[0] = 42\n",
    "print(arr1)\n",
    "print(arr2)"
   ]
  },
  {
   "cell_type": "markdown",
   "metadata": {},
   "source": [
    "Get the Shape of an Array\n",
    "NumPy arrays have an attribute called shape that returns a tuple with each index having the number of corresponding elements."
   ]
  },
  {
   "cell_type": "code",
   "execution_count": 21,
   "metadata": {},
   "outputs": [
    {
     "name": "stdout",
     "output_type": "stream",
     "text": [
      "(3, 3, 4)\n",
      "28\n",
      "[[  1   2   3   4   5   6   7]\n",
      " [  8   9 526   3  64   6   3]\n",
      " [  5   2  96   3   4  85   4]\n",
      " [ 52  96   9   6   4   5  41]]\n"
     ]
    }
   ],
   "source": [
    "import numpy as np\n",
    "arr = np.array([[[1, 2, 3, 4], [5, 6, 7, 8],[41,56,85,96]],[[1, 2, 3, 4], [5, 6, 7, 8],[15,63,6,1]],[[1, 2, 3, 4], [5, 6, 7, 8],[1,2,3,4]]])\n",
    "print(arr.shape)\n",
    "\n",
    "# reshaping the array\n",
    "arr2=np.array([1, 2, 3, 4, 5, 6, 7, 8, 9,526,3,64,6,3,5,2,96,3,4,85,4,52,96,9,6,4,5,41])\n",
    "a=len(arr2)\n",
    "print(a)\n",
    "arr1=arr2.reshape(4,7)\n",
    "print(arr1)"
   ]
  },
  {
   "cell_type": "code",
   "execution_count": 22,
   "metadata": {},
   "outputs": [
    {
     "name": "stdout",
     "output_type": "stream",
     "text": [
      "[1 2 3 4]\n"
     ]
    }
   ],
   "source": [
    "# iteration through the array\n",
    "import numpy as np\n",
    "arr = np.array([1, 2, 3, 4])\n",
    "print(arr)"
   ]
  },
  {
   "cell_type": "code",
   "execution_count": 23,
   "metadata": {},
   "outputs": [
    {
     "name": "stdout",
     "output_type": "stream",
     "text": [
      "6\n",
      "(2, 3)\n",
      "2\n",
      "int64\n",
      "8\n",
      "[[[1 2]\n",
      "  [3 4]]\n",
      "\n",
      " [[5 6]\n",
      "  [7 8]]]\n",
      "3\n",
      "(2, 2, 2)\n",
      "8\n",
      "int64\n",
      "8\n"
     ]
    }
   ],
   "source": [
    "# Attributes of array\n",
    "\n",
    "# 1. size = total element\n",
    "# 2. Dimensions = 1-D, 2-D\n",
    "# 3. shape = (rows,columns)\n",
    "# 4. dataType = int,float,etc.\n",
    "# 5. itemsize =\n",
    "\n",
    "import numpy as np\n",
    "\n",
    "arr = np.array([[10, 20, 3000], [40, 50, 60]])\n",
    "print(arr.size)\n",
    "print(arr.shape)\n",
    "print(arr.ndim)\n",
    "print(arr.dtype)\n",
    "print(arr.itemsize)\n",
    "\n",
    "\n",
    "# 3-D Array\n",
    "arr_3D = np.array([[[1, 2], [3, 4]], [[5, 6], [7, 8]]])\n",
    "print(arr_3D)\n",
    "print(arr_3D.ndim)\n",
    "print(arr_3D.shape)\n",
    "print(arr_3D.size)\n",
    "print(arr_3D.dtype)\n",
    "print(arr_3D.itemsize)"
   ]
  },
  {
   "cell_type": "code",
   "execution_count": 24,
   "metadata": {},
   "outputs": [
    {
     "name": "stdout",
     "output_type": "stream",
     "text": [
      "[11, 22, 33, 44, 55]\n",
      "[11 22 33 44 55]\n",
      "Time taken by list operation:  0.13809967041015625\n",
      "Time taken by numpy operation:  0.014583587646484375\n"
     ]
    }
   ],
   "source": [
    "# Adding the element list from other list\n",
    "import numpy as np\n",
    "list1 = [1, 2, 3, 4, 5]\n",
    "list2 = [10, 20, 30, 40, 50]\n",
    "return_list = []\n",
    "for i in range(len(list1)):\n",
    "    return_list.append(list1[i] + list2[i])\n",
    "print(return_list)\n",
    "\n",
    "arr1= np.array([1, 2, 3, 4, 5])\n",
    "arr2= np.array([10, 20, 30, 40, 50])\n",
    "arr3= arr1+arr2\n",
    "print(arr3)\n",
    "\n",
    "import time\n",
    "list1 = range(1000000)\n",
    "list2 = range(1000000)\n",
    "start_time = time.time()\n",
    "result = [(x + y) for x, y in zip(list1, list2)]\n",
    "print(\"Time taken by list operation: \", (time.time() - start_time))\n",
    "\n",
    "\n",
    "arr1 = np.arange(1000000)\n",
    "arr2 = np.arange(1000000)\n",
    "start_time = time.time()\n",
    "arr3 = arr1 + arr2\n",
    "end= time.time()\n",
    "print(\"Time taken by numpy operation: \", (end-start_time))"
   ]
  }
 ],
 "metadata": {
  "kernelspec": {
   "display_name": ".venv",
   "language": "python",
   "name": "python3"
  },
  "language_info": {
   "codemirror_mode": {
    "name": "ipython",
    "version": 3
   },
   "file_extension": ".py",
   "mimetype": "text/x-python",
   "name": "python",
   "nbconvert_exporter": "python",
   "pygments_lexer": "ipython3",
   "version": "3.12.5"
  }
 },
 "nbformat": 4,
 "nbformat_minor": 2
}
