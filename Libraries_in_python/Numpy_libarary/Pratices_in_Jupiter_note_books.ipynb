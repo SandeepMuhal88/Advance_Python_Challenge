{
 "cells": [
  {
   "cell_type": "code",
   "execution_count": 1,
   "metadata": {},
   "outputs": [
    {
     "name": "stdout",
     "output_type": "stream",
     "text": [
      "[1 2 3]\n"
     ]
    }
   ],
   "source": [
    "import numpy as np\n",
    "a=np.array([1,2,3])\n",
    "print(a)"
   ]
  },
  {
   "cell_type": "code",
   "execution_count": 3,
   "metadata": {},
   "outputs": [
    {
     "name": "stdout",
     "output_type": "stream",
     "text": [
      "[[1 2 3]\n",
      " [4 5 6]]\n",
      "[[[1 2 3]\n",
      "  [4 5 6]]\n",
      "\n",
      " [[1 2 3]\n",
      "  [4 5 6]]]\n"
     ]
    }
   ],
   "source": [
    "# Creating 2D array\n",
    "import numpy as np\n",
    "a=np.array([[1,2,3],[4,5,6]])\n",
    "print(a)\n",
    "# Creating 3D array\n",
    "print(\"Creating 3D array\")\n",
    "import numpy as np\n",
    "a=np.array([[[1,2,3],[4,5,6]],[[1,2,3],[4,5,6]]])\n",
    "print(a)"
   ]
  },
  {
   "cell_type": "code",
   "execution_count": 6,
   "metadata": {},
   "outputs": [
    {
     "name": "stdout",
     "output_type": "stream",
     "text": [
      "Creating 4D array\n",
      "[[[[ 2  5  6  3  9  3  1 20  3 20 63]\n",
      "   [ 2  5  6  3  9  3  1 20  3 20 63]\n",
      "   [ 2  5  6  3  9  3  1 20  3 20 63]]\n",
      "\n",
      "  [[ 2  5  6  3  9  3  1 20  3 20 63]\n",
      "   [ 2  5  6  3  9  3  1 20  3 20 63]\n",
      "   [ 2  5  6  3  9  3  1 20  3 20 63]]]]\n"
     ]
    }
   ],
   "source": [
    "# creating 4-d array\n",
    "import numpy as np\n",
    "print(\"Creating 4D array\")\n",
    "arr4=np.array([[[[2,5,6,3,9,3,1,20,3,20,63],[2,5,6,3,9,3,1,20,3,20,63],[2,5,6,3,9,3,1,20,3,20,63]],[[2,5,6,3,9,3,1,20,3,20,63],[2,5,6,3,9,3,1,20,3,20,63],[2,5,6,3,9,3,1,20,3,20,63]]]])\n",
    "print(arr4)"
   ]
  },
  {
   "cell_type": "code",
   "execution_count": 1,
   "metadata": {},
   "outputs": [
    {
     "name": "stdout",
     "output_type": "stream",
     "text": [
      "User input array\n",
      "[12 12 15 63 32]\n"
     ]
    }
   ],
   "source": [
    "import numpy as np\n",
    "print(\"User input array\")\n",
    "num=int(input(\"Enter size of array:\"))\n",
    "a=[]\n",
    "for i in range(num):\n",
    "    a.append(int(input(f\"Enter number for {i+1} index:\")))\n",
    "a=np.array(a)\n",
    "print(a)"
   ]
  }
 ],
 "metadata": {
  "kernelspec": {
   "display_name": ".venv",
   "language": "python",
   "name": "python3"
  },
  "language_info": {
   "codemirror_mode": {
    "name": "ipython",
    "version": 3
   },
   "file_extension": ".py",
   "mimetype": "text/x-python",
   "name": "python",
   "nbconvert_exporter": "python",
   "pygments_lexer": "ipython3",
   "version": "3.12.5"
  }
 },
 "nbformat": 4,
 "nbformat_minor": 2
}
