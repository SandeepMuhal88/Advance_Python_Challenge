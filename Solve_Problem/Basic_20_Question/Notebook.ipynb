{
 "cells": [
  {
   "cell_type": "markdown",
   "id": "2f3cdc28",
   "metadata": {},
   "source": [
    "##### 06. Calculate the sum of even numbers greater than 10 and less than 30"
   ]
  },
  {
   "cell_type": "code",
   "execution_count": 1,
   "id": "2948dc31",
   "metadata": {},
   "outputs": [],
   "source": [
    "def claculate_even_sum():\n",
    "    x=0\n",
    "    for i in range(10,31):\n",
    "        if i%2==0 and i<=30:\n",
    "            x+=i\n",
    "    return x"
   ]
  },
  {
   "cell_type": "code",
   "execution_count": 2,
   "id": "bdb605e7",
   "metadata": {},
   "outputs": [
    {
     "name": "stdout",
     "output_type": "stream",
     "text": [
      "220\n"
     ]
    }
   ],
   "source": [
    "sum=0\n",
    "for i in range(10,31,2):\n",
    "    sum+=i\n",
    "\n",
    "print(sum)"
   ]
  },
  {
   "cell_type": "code",
   "execution_count": 3,
   "id": "a894c04f",
   "metadata": {},
   "outputs": [
    {
     "data": {
      "text/plain": [
       "220"
      ]
     },
     "execution_count": 3,
     "metadata": {},
     "output_type": "execute_result"
    }
   ],
   "source": [
    "claculate_even_sum()"
   ]
  },
  {
   "cell_type": "markdown",
   "id": "a671e3ae",
   "metadata": {},
   "source": [
    "##### 7. Create a function that will convert from Celsius to Fahrenheit"
   ]
  },
  {
   "cell_type": "code",
   "execution_count": 4,
   "id": "46583ad1",
   "metadata": {},
   "outputs": [],
   "source": [
    "def convert_c_to_f(celsius):\n",
    "    F=(celsius*9/5)+32\n",
    "    return F"
   ]
  },
  {
   "cell_type": "code",
   "execution_count": 5,
   "id": "ce5ea023",
   "metadata": {},
   "outputs": [
    {
     "data": {
      "text/plain": [
       "172.4"
      ]
     },
     "execution_count": 5,
     "metadata": {},
     "output_type": "execute_result"
    }
   ],
   "source": [
    "convert_c_to_f(78)"
   ]
  },
  {
   "cell_type": "markdown",
   "id": "c1c265be",
   "metadata": {},
   "source": [
    "8. Create a function that will convert from Fahrenheit to Celsius"
   ]
  },
  {
   "cell_type": "code",
   "execution_count": 7,
   "id": "26e0ffca",
   "metadata": {},
   "outputs": [
    {
     "data": {
      "text/plain": [
       "78.0"
      ]
     },
     "execution_count": 7,
     "metadata": {},
     "output_type": "execute_result"
    }
   ],
   "source": [
    "def convert_f_to_c(F):\n",
    "   C = ( F-32) * 5/9\n",
    "   return C\n",
    "\n",
    "convert_f_to_c(172.4)"
   ]
  },
  {
   "cell_type": "markdown",
   "id": "7538bbff",
   "metadata": {},
   "source": [
    "9. Calculate the sum of numbers in an array of numbers"
   ]
  },
  {
   "cell_type": "code",
   "execution_count": 16,
   "id": "f55cca03",
   "metadata": {},
   "outputs": [
    {
     "data": {
      "text/plain": [
       "np.int64(373)"
      ]
     },
     "execution_count": 16,
     "metadata": {},
     "output_type": "execute_result"
    }
   ],
   "source": [
    "import numpy as np \n",
    "\n",
    "arr=np.array([2,3,3,67,74,4,23,75,32,90])\n",
    "\n",
    "\n",
    "def sun_of_array(arr):\n",
    "    sum=0\n",
    "    for i in arr:\n",
    "        sum+=i\n",
    "    \n",
    "    return sum\n",
    "\n",
    "\n",
    "sun_of_array(arr)\n"
   ]
  },
  {
   "cell_type": "markdown",
   "id": "4c9c4b49",
   "metadata": {},
   "source": [
    "10. Calculate the average of the numbers in an array of numbers"
   ]
  },
  {
   "cell_type": "code",
   "execution_count": 21,
   "id": "30c7f07a",
   "metadata": {},
   "outputs": [
    {
     "data": {
      "text/plain": [
       "np.float64(7.5)"
      ]
     },
     "execution_count": 21,
     "metadata": {},
     "output_type": "execute_result"
    }
   ],
   "source": [
    "arr1=np.array([1,2,3,4,5])\n",
    "\n",
    "\n",
    "def average_number(arr):\n",
    "    sum=0\n",
    "    for i in arr:\n",
    "        sum+=i\n",
    "    return sum/2\n",
    "\n",
    "\n",
    "average_number(arr1)"
   ]
  },
  {
   "cell_type": "markdown",
   "id": "dde411b5",
   "metadata": {},
   "source": [
    "11. Create a function that receives an array of numbers as argument and returns an \n",
    "array containing only the positive numbers"
   ]
  },
  {
   "cell_type": "code",
   "execution_count": 32,
   "id": "94061279",
   "metadata": {},
   "outputs": [
    {
     "data": {
      "text/plain": [
       "array([1, 3, 5])"
      ]
     },
     "execution_count": 32,
     "metadata": {},
     "output_type": "execute_result"
    }
   ],
   "source": [
    "arr1=np.array([1,-2,3,-4,5])\n",
    "def positive_aaray(arr):\n",
    "    positive=arr>0\n",
    "    return arr[positive]\n",
    "\n",
    "\n",
    "positive_aaray(arr1)"
   ]
  },
  {
   "cell_type": "code",
   "execution_count": 33,
   "id": "5343b783",
   "metadata": {},
   "outputs": [
    {
     "data": {
      "text/plain": [
       "[1, 2, 3, 7]"
      ]
     },
     "execution_count": 33,
     "metadata": {},
     "output_type": "execute_result"
    }
   ],
   "source": [
    "list=[1,2,3,-6,7,-7]\n",
    "\n",
    "def positive_number(list):\n",
    "    l2=[]\n",
    "    for i in list:\n",
    "        if i>0:\n",
    "            l2.append(i)\n",
    "\n",
    "    return l2\n",
    "\n",
    "positive_number(list)"
   ]
  },
  {
   "cell_type": "markdown",
   "id": "fc1d46f6",
   "metadata": {},
   "source": [
    "12. Find the maximum number in an array of numbers"
   ]
  },
  {
   "cell_type": "code",
   "execution_count": 37,
   "id": "cb07da43",
   "metadata": {},
   "outputs": [
    {
     "data": {
      "text/plain": [
       "np.int64(37)"
      ]
     },
     "execution_count": 37,
     "metadata": {},
     "output_type": "execute_result"
    }
   ],
   "source": [
    "arr1=np.array([1,-2,37,-4,5])\n",
    "def maximun_number_in_array(arr):\n",
    "    X=max(arr)\n",
    "    return X\n",
    "\n",
    "\n",
    "maximun_number_in_array(arr1)"
   ]
  },
  {
   "cell_type": "code",
   "execution_count": 44,
   "id": "39278b52",
   "metadata": {},
   "outputs": [
    {
     "name": "stdout",
     "output_type": "stream",
     "text": [
      "Using a manual loop, the maximum number is: 34\n"
     ]
    }
   ],
   "source": [
    "from numpy import number\n",
    "\n",
    "\n",
    "list=[1,2,3,-6,7,-7]\n",
    "\n",
    "def maximum(list):\n",
    "    X=max(list)\n",
    "    return X\n",
    "\n",
    "maximum(list)\n",
    "\n",
    "\n",
    "# Without max function\n",
    "def largest_number(number_list):\n",
    "    if not number_list:\n",
    "        return None\n",
    "    #assume First Number is largest\n",
    "    max_so_far = number_list[0]\n",
    "\n",
    "    for i in number_list[1:]:\n",
    "        if i>max_so_far:\n",
    "            max_so_far=i\n",
    "\n",
    "    return max_so_far\n",
    "\n",
    "\n",
    "# --- Example Usage ---\n",
    "numbers = [15, 2, 34, 8, 19, 27]\n",
    "largest_number = largest_number(numbers)\n",
    "print(f\"Using a manual loop, the maximum number is: {largest_number}\")\n"
   ]
  },
  {
   "cell_type": "markdown",
   "id": "815b4022",
   "metadata": {},
   "source": [
    "13. Print the first 10 Fibonacci numbers without recursion"
   ]
  }
 ],
 "metadata": {
  "kernelspec": {
   "display_name": ".venv",
   "language": "python",
   "name": "python3"
  },
  "language_info": {
   "codemirror_mode": {
    "name": "ipython",
    "version": 3
   },
   "file_extension": ".py",
   "mimetype": "text/x-python",
   "name": "python",
   "nbconvert_exporter": "python",
   "pygments_lexer": "ipython3",
   "version": "3.12.7"
  }
 },
 "nbformat": 4,
 "nbformat_minor": 5
}
