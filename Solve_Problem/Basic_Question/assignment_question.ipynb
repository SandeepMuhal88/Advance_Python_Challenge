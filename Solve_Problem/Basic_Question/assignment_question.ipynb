{
 "cells": [
  {
   "cell_type": "markdown",
   "metadata": {},
   "source": [
    "# Lesson 1.2: Python Basics\n",
    "## Topics Covered:\n",
    "- Syntax and Semantics\n",
    "- Variables and Data Types\n",
    "- Basic Operators (Arithmetic, Comparison, Logical)\n"
   ]
  },
  {
   "cell_type": "markdown",
   "metadata": {},
   "source": [
    "## 1. Syntax and Semantics\n",
    "\n",
    "**Question 1:** Write a Python program to print \"Hello, World!\"."
   ]
  },
  {
   "cell_type": "code",
   "execution_count": 1,
   "metadata": {},
   "outputs": [
    {
     "name": "stdout",
     "output_type": "stream",
     "text": [
      "Hello World\n"
     ]
    }
   ],
   "source": [
    "print(\"Hello World\")"
   ]
  },
  {
   "cell_type": "markdown",
   "metadata": {},
   "source": [
    "**Question 2:** Write a Python program that takes a user input and prints it."
   ]
  },
  {
   "cell_type": "code",
   "execution_count": 2,
   "metadata": {},
   "outputs": [
    {
     "name": "stdout",
     "output_type": "stream",
     "text": [
      "User enter this := 4\n"
     ]
    }
   ],
   "source": [
    "x=input(\"Enter a numer:-\")\n",
    "print(\"User enter this :=\",x)"
   ]
  },
  {
   "cell_type": "markdown",
   "metadata": {},
   "source": [
    "**Question 3:** Write a Python program to check if a number is positive, negative, or zero."
   ]
  },
  {
   "cell_type": "code",
   "execution_count": 26,
   "metadata": {},
   "outputs": [
    {
     "name": "stdout",
     "output_type": "stream",
     "text": [
      "Number is Negative\n"
     ]
    }
   ],
   "source": [
    "def check_number(n):\n",
    "    if n<0:\n",
    "        print(\"Number is Negative\")\n",
    "    elif n==0:\n",
    "        print(\"Number is Zero\")\n",
    "    else:\n",
    "        print(\"Number is Positive\")\n",
    "    \n",
    "\n",
    "num=int(input(\"Enter Number to check:-\"))\n",
    "check_number(num)"
   ]
  },
  {
   "cell_type": "markdown",
   "metadata": {},
   "source": [
    "**Question 4:** Write a Python program to find the largest of three numbers."
   ]
  },
  {
   "cell_type": "code",
   "execution_count": 5,
   "metadata": {},
   "outputs": [
    {
     "name": "stdout",
     "output_type": "stream",
     "text": [
      "90 b is largest\n"
     ]
    }
   ],
   "source": [
    "def largest_number(a,b,c):\n",
    "    if a>b and a>c:\n",
    "        print(f\"{a} A is largest\")\n",
    "    elif b>a and b>c:\n",
    "        print(f\"{b} b is largest\")\n",
    "    else:\n",
    "        print(f\"{c} c is largest\")\n",
    "    \n",
    "\n",
    "a=int(input(\"Enter a number:-\"))\n",
    "b=int(input(\"Enter a number:-\"))\n",
    "c=int(input(\"Enter a number:-\"))\n",
    "\n",
    "largest_number(a,b,c)\n"
   ]
  },
  {
   "cell_type": "markdown",
   "metadata": {},
   "source": [
    "**Question 5:** Write a Python program to calculate the factorial of a number."
   ]
  },
  {
   "cell_type": "code",
   "execution_count": 11,
   "metadata": {},
   "outputs": [
    {
     "name": "stdout",
     "output_type": "stream",
     "text": [
      "Factorial of 0 is  number:- 1\n"
     ]
    }
   ],
   "source": [
    "def factorial_number(num):\n",
    "    fact=1\n",
    "    if num<0:\n",
    "        print(\"Enter value is Negative !!\")\n",
    "    elif num==1:\n",
    "        print(f\"facotoriyal:- {num}\")\n",
    "    else:\n",
    "        while num !=0:\n",
    "            fact=fact*num\n",
    "            num=num-1\n",
    "        print(f\"Factorial of {num} is  number:- {fact}\")\n",
    "    \n",
    "\n",
    "factorial_number(0)"
   ]
  },
  {
   "cell_type": "markdown",
   "metadata": {},
   "source": [
    "## 2. Variables and Data Types\n",
    "\n",
    "**Question 6:** Create variables of different data types: integer, float, string, and boolean. Print their values and types."
   ]
  },
  {
   "cell_type": "code",
   "execution_count": 12,
   "metadata": {},
   "outputs": [
    {
     "name": "stdout",
     "output_type": "stream",
     "text": [
      "Age: 90\n",
      "Name: Sandeep\n",
      "weight: 90.8\n",
      "married: False\n"
     ]
    }
   ],
   "source": [
    "age=90\n",
    "name= \"Sandeep\"\n",
    "weight=90.8\n",
    "married=False\n",
    "\n",
    "print(f\"Age: {age}\")\n",
    "print(f\"Name: {name}\")\n",
    "print(f\"weight: {weight}\")\n",
    "print(f\"married: {married}\")"
   ]
  },
  {
   "cell_type": "markdown",
   "metadata": {},
   "source": [
    "**Question 7:** Write a Python program to swap the values of two variables."
   ]
  },
  {
   "cell_type": "code",
   "execution_count": 19,
   "metadata": {},
   "outputs": [
    {
     "name": "stdout",
     "output_type": "stream",
     "text": [
      "Before Swap Number:-78,js\n",
      "Before Swap Number:-js,78\n"
     ]
    }
   ],
   "source": [
    "def swap_number(num1,num2):\n",
    "    print(f\"Before Swap Number:-{num1},{num2}\")\n",
    "    num1,num2=num2,num1\n",
    "    print(f\"Before Swap Number:-{num1},{num2}\" )\n",
    "\n",
    "\n",
    "\n",
    "x=input(\"Enter a number:-\")\n",
    "y=input(\"Enter second number:-\")\n",
    "\n",
    "swap_number(x,y)\n"
   ]
  },
  {
   "cell_type": "markdown",
   "metadata": {},
   "source": [
    "**Question 8:** Write a Python program to convert Celsius to Fahrenheit."
   ]
  },
  {
   "cell_type": "code",
   "execution_count": 22,
   "metadata": {},
   "outputs": [
    {
     "data": {
      "text/plain": [
       "'Fahrenheit: 852.8f '"
      ]
     },
     "execution_count": 22,
     "metadata": {},
     "output_type": "execute_result"
    }
   ],
   "source": [
    "def convert_c_to_f(celsius):\n",
    "    F=(celsius*9/5)+32\n",
    "    return f\"Fahrenheit: {F}f \"\n",
    "\n",
    "\n",
    "a=int(input(\"Enter a number Degree in Celsius:- \"))\n",
    "convert_c_to_f(a)\n"
   ]
  },
  {
   "cell_type": "markdown",
   "metadata": {},
   "source": [
    "**Question 9:** Write a Python program to concatenate two strings."
   ]
  },
  {
   "cell_type": "code",
   "execution_count": 26,
   "metadata": {},
   "outputs": [
    {
     "name": "stdout",
     "output_type": "stream",
     "text": [
      "Sandeep Nilesh\n"
     ]
    }
   ],
   "source": [
    "str1=\"Sandeep \"\n",
    "str2=\"Nilesh\"\n",
    "\n",
    "print(str1 + str2)"
   ]
  },
  {
   "cell_type": "markdown",
   "metadata": {},
   "source": [
    "**Question 10:** Write a Python program to check if a variable is of a specific data type."
   ]
  },
  {
   "cell_type": "code",
   "execution_count": 33,
   "metadata": {},
   "outputs": [
    {
     "name": "stdout",
     "output_type": "stream",
     "text": [
      "Enter value Data Type is :- <class 'str'>\n"
     ]
    }
   ],
   "source": [
    "def check_data_type(num):\n",
    "       print(f\"Enter value Data Type is :- {type(num)}\")\n",
    "    # if num==int:\n",
    "    #     print(f\"The data type is integer: {type(num)}\")\n",
    "    # elif num==str:\n",
    "    #     print(f\"Enter value Data Type is String:- {type(num)}\")\n",
    "    # elif num==float:\n",
    "    #    print(f\"Enter value Data Type is Float:- {type(num)}\")\n",
    "    # else:\n",
    "    #     print(f\"Enter value Data Type is boolian:- {type(num)}\")\n",
    "    \n",
    "a=\"Sandeep\"\n",
    "check_data_type(a)\n",
    "    "
   ]
  },
  {
   "cell_type": "markdown",
   "metadata": {},
   "source": [
    "## 3. Basic Operators (Arithmetic, Comparison, Logical)\n",
    "\n",
    "**Question 11:** Write a Python program to perform arithmetic operations: addition, subtraction, multiplication, and division."
   ]
  },
  {
   "cell_type": "code",
   "execution_count": 11,
   "metadata": {},
   "outputs": [],
   "source": [
    "# Your code here"
   ]
  },
  {
   "cell_type": "markdown",
   "metadata": {},
   "source": [
    "**Question 12:** Write a Python program to demonstrate comparison operators: equal to, not equal to, greater than, less than."
   ]
  },
  {
   "cell_type": "code",
   "execution_count": 12,
   "metadata": {},
   "outputs": [],
   "source": [
    "# Your code here"
   ]
  },
  {
   "cell_type": "markdown",
   "metadata": {},
   "source": [
    "**Question 13:** Write a Python program to demonstrate logical operators: and, or, not."
   ]
  },
  {
   "cell_type": "code",
   "execution_count": 13,
   "metadata": {},
   "outputs": [],
   "source": [
    "# Your code here"
   ]
  },
  {
   "cell_type": "markdown",
   "metadata": {},
   "source": [
    "**Question 14:** Write a Python program to calculate the square of a number."
   ]
  },
  {
   "cell_type": "code",
   "execution_count": 14,
   "metadata": {},
   "outputs": [],
   "source": [
    "# Your code here"
   ]
  },
  {
   "cell_type": "markdown",
   "metadata": {},
   "source": [
    "**Question 15:** Write a Python program to check if a number is even or odd."
   ]
  },
  {
   "cell_type": "code",
   "execution_count": 15,
   "metadata": {},
   "outputs": [],
   "source": [
    "# Your code here"
   ]
  },
  {
   "cell_type": "markdown",
   "metadata": {},
   "source": [
    "**Question 16:** Write a Python program to find the sum of the first n natural numbers."
   ]
  },
  {
   "cell_type": "code",
   "execution_count": 16,
   "metadata": {},
   "outputs": [],
   "source": [
    "# Your code here"
   ]
  },
  {
   "cell_type": "markdown",
   "metadata": {},
   "source": [
    "**Question 17:** Write a Python program to check if a year is a leap year."
   ]
  },
  {
   "cell_type": "code",
   "execution_count": 17,
   "metadata": {},
   "outputs": [],
   "source": [
    "# Your code here"
   ]
  },
  {
   "cell_type": "markdown",
   "metadata": {},
   "source": [
    "**Question 18:** Write a Python program to reverse a string."
   ]
  },
  {
   "cell_type": "code",
   "execution_count": 18,
   "metadata": {},
   "outputs": [],
   "source": [
    "# Your code here"
   ]
  },
  {
   "cell_type": "markdown",
   "metadata": {},
   "source": [
    "**Question 19:** Write a Python program to check if a string is a palindrome."
   ]
  },
  {
   "cell_type": "code",
   "execution_count": 19,
   "metadata": {},
   "outputs": [],
   "source": [
    "# Your code here"
   ]
  },
  {
   "cell_type": "markdown",
   "metadata": {},
   "source": [
    "**Question 20:** Write a Python program to sort a list of numbers in ascending order."
   ]
  },
  {
   "cell_type": "code",
   "execution_count": 20,
   "metadata": {},
   "outputs": [],
   "source": [
    "# Your code here"
   ]
  }
 ],
 "metadata": {
  "kernelspec": {
   "display_name": ".venv",
   "language": "python",
   "name": "python3"
  },
  "language_info": {
   "codemirror_mode": {
    "name": "ipython",
    "version": 3
   },
   "file_extension": ".py",
   "mimetype": "text/x-python",
   "name": "python",
   "nbconvert_exporter": "python",
   "pygments_lexer": "ipython3",
   "version": "3.12.7"
  }
 },
 "nbformat": 4,
 "nbformat_minor": 4
}
