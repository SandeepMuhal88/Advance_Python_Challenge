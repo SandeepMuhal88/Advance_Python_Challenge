{
 "cells": [
  {
   "cell_type": "code",
   "execution_count": 5,
   "id": "b65c6196",
   "metadata": {},
   "outputs": [
    {
     "name": "stdout",
     "output_type": "stream",
     "text": [
      "[1. 2. 3. 4.]\n",
      "float32\n",
      "[1 2 3 4]\n",
      "[1 2 3 4]\n",
      "[1 2 3 4]\n",
      "[[1 8 0]\n",
      " [7 3 7]\n",
      " [9 2 0]]\n",
      "[[0.76381795 0.22372681 0.97836924]\n",
      " [0.97993894 0.5411349  0.3645753 ]\n",
      " [0.99171751 0.71733726 0.12089318]]\n",
      "[[-0.45375517  0.59392043 -0.24084066]\n",
      " [ 0.05214389  0.43814811 -0.43426302]\n",
      " [ 0.36425967  0.60390654 -0.05298465]]\n"
     ]
    }
   ],
   "source": [
    "# Operation in numpy\n",
    "\n",
    "import numpy as np\n",
    "arr = np.array([1, 2, 3, 4])\n",
    "newarr = arr.astype('f')\n",
    "print(newarr)\n",
    "print(newarr.dtype)\n",
    "\n",
    "# Copy and view\n",
    "arr = np.array([1, 2, 3, 4])\n",
    "print(arr)\n",
    "print(arr.copy())\n",
    "print(arr.view())\n",
    "\n",
    "# Array with random values\n",
    "arr = np.random.randint(10, size=(3, 3))\n",
    "print(arr)\n",
    "\n",
    "# Array with random values\n",
    "arr = np.random.rand(3, 3)\n",
    "print(arr)\n",
    "\n",
    "# Array with random values\n",
    "arr = np.random.randn(3, 3)\n",
    "print(arr)\n"
   ]
  },
  {
   "cell_type": "code",
   "execution_count": null,
   "id": "fcc10589",
   "metadata": {},
   "outputs": [
    {
     "name": "stdout",
     "output_type": "stream",
     "text": [
      "[ 6  8 10 12]\n",
      "[-4 -4 -4 -4]\n",
      "[ 5 12 21 32]\n",
      "[0.2        0.33333333 0.42857143 0.5       ]\n"
     ]
    }
   ],
   "source": [
    "# Addition of arrays\n",
    "import numpy as np\n",
    "arr1 = np.array([1, 2, 3, 4])\n",
    "arr2 = np.array([5, 6, 7, 8])\n",
    "print(arr1 + arr2)\n",
    "\n",
    "# Subtraction of arrays\n",
    "print(arr1 - arr2)\n",
    "\n",
    "# Multiplication of arrays\n",
    "print(arr1 * arr2)\n",
    "\n",
    "# Division of arrays \n",
    "print(arr1 / arr2)\n"
   ]
  }
 ],
 "metadata": {
  "kernelspec": {
   "display_name": ".venv",
   "language": "python",
   "name": "python3"
  },
  "language_info": {
   "codemirror_mode": {
    "name": "ipython",
    "version": 3
   },
   "file_extension": ".py",
   "mimetype": "text/x-python",
   "name": "python",
   "nbconvert_exporter": "python",
   "pygments_lexer": "ipython3",
   "version": "3.12.5"
  }
 },
 "nbformat": 4,
 "nbformat_minor": 5
}
