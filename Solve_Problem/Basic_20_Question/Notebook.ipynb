{
 "cells": [
  {
   "cell_type": "markdown",
   "id": "2f3cdc28",
   "metadata": {},
   "source": [
    "##### 06. Calculate the sum of even numbers greater than 10 and less than 30"
   ]
  },
  {
   "cell_type": "code",
   "execution_count": 1,
   "id": "2948dc31",
   "metadata": {},
   "outputs": [],
   "source": [
    "def claculate_even_sum():\n",
    "    x=0\n",
    "    for i in range(10,31):\n",
    "        if i%2==0 and i<=30:\n",
    "            x+=i\n",
    "    return x"
   ]
  },
  {
   "cell_type": "code",
   "execution_count": 2,
   "id": "bdb605e7",
   "metadata": {},
   "outputs": [
    {
     "name": "stdout",
     "output_type": "stream",
     "text": [
      "220\n"
     ]
    }
   ],
   "source": [
    "sum=0\n",
    "for i in range(10,31,2):\n",
    "    sum+=i\n",
    "\n",
    "print(sum)"
   ]
  },
  {
   "cell_type": "code",
   "execution_count": 3,
   "id": "a894c04f",
   "metadata": {},
   "outputs": [
    {
     "data": {
      "text/plain": [
       "220"
      ]
     },
     "execution_count": 3,
     "metadata": {},
     "output_type": "execute_result"
    }
   ],
   "source": [
    "claculate_even_sum()"
   ]
  },
  {
   "cell_type": "markdown",
   "id": "a671e3ae",
   "metadata": {},
   "source": [
    "##### 7. Create a function that will convert from Celsius to Fahrenheit"
   ]
  },
  {
   "cell_type": "code",
   "execution_count": 4,
   "id": "46583ad1",
   "metadata": {},
   "outputs": [],
   "source": [
    "def convert_c_to_f(celsius):\n",
    "    F=(celsius*9/5)+32\n",
    "    return F"
   ]
  },
  {
   "cell_type": "code",
   "execution_count": 5,
   "id": "ce5ea023",
   "metadata": {},
   "outputs": [
    {
     "data": {
      "text/plain": [
       "172.4"
      ]
     },
     "execution_count": 5,
     "metadata": {},
     "output_type": "execute_result"
    }
   ],
   "source": [
    "convert_c_to_f(78)"
   ]
  },
  {
   "cell_type": "markdown",
   "id": "c1c265be",
   "metadata": {},
   "source": [
    "8. Create a function that will convert from Fahrenheit to Celsius"
   ]
  },
  {
   "cell_type": "code",
   "execution_count": 6,
   "id": "26e0ffca",
   "metadata": {},
   "outputs": [
    {
     "data": {
      "text/plain": [
       "78.0"
      ]
     },
     "execution_count": 6,
     "metadata": {},
     "output_type": "execute_result"
    }
   ],
   "source": [
    "def convert_f_to_c(F):\n",
    "   C = ( F-32) * 5/9\n",
    "   return C\n",
    "\n",
    "convert_f_to_c(172.4)"
   ]
  },
  {
   "cell_type": "markdown",
   "id": "7538bbff",
   "metadata": {},
   "source": [
    "9. Calculate the sum of numbers in an array of numbers"
   ]
  },
  {
   "cell_type": "code",
   "execution_count": 7,
   "id": "f55cca03",
   "metadata": {},
   "outputs": [
    {
     "data": {
      "text/plain": [
       "np.int64(373)"
      ]
     },
     "execution_count": 7,
     "metadata": {},
     "output_type": "execute_result"
    }
   ],
   "source": [
    "import numpy as np \n",
    "\n",
    "arr=np.array([2,3,3,67,74,4,23,75,32,90])\n",
    "\n",
    "\n",
    "def sun_of_array(arr):\n",
    "    sum=0\n",
    "    for i in arr:\n",
    "        sum+=i\n",
    "    \n",
    "    return sum\n",
    "\n",
    "\n",
    "sun_of_array(arr)\n"
   ]
  },
  {
   "cell_type": "markdown",
   "id": "4c9c4b49",
   "metadata": {},
   "source": [
    "10. Calculate the average of the numbers in an array of numbers"
   ]
  },
  {
   "cell_type": "code",
   "execution_count": 8,
   "id": "30c7f07a",
   "metadata": {},
   "outputs": [
    {
     "data": {
      "text/plain": [
       "np.float64(7.5)"
      ]
     },
     "execution_count": 8,
     "metadata": {},
     "output_type": "execute_result"
    }
   ],
   "source": [
    "arr1=np.array([1,2,3,4,5])\n",
    "\n",
    "\n",
    "def average_number(arr):\n",
    "    sum=0\n",
    "    for i in arr:\n",
    "        sum+=i\n",
    "    return sum/2\n",
    "\n",
    "\n",
    "average_number(arr1)"
   ]
  },
  {
   "cell_type": "markdown",
   "id": "dde411b5",
   "metadata": {},
   "source": [
    "11. Create a function that receives an array of numbers as argument and returns an \n",
    "array containing only the positive numbers"
   ]
  },
  {
   "cell_type": "code",
   "execution_count": 9,
   "id": "94061279",
   "metadata": {},
   "outputs": [
    {
     "data": {
      "text/plain": [
       "array([1, 3, 5])"
      ]
     },
     "execution_count": 9,
     "metadata": {},
     "output_type": "execute_result"
    }
   ],
   "source": [
    "arr1=np.array([1,-2,3,-4,5])\n",
    "def positive_aaray(arr):\n",
    "    positive=arr>0\n",
    "    return arr[positive]\n",
    "\n",
    "\n",
    "positive_aaray(arr1)"
   ]
  },
  {
   "cell_type": "code",
   "execution_count": 10,
   "id": "5343b783",
   "metadata": {},
   "outputs": [
    {
     "data": {
      "text/plain": [
       "[1, 2, 3, 7]"
      ]
     },
     "execution_count": 10,
     "metadata": {},
     "output_type": "execute_result"
    }
   ],
   "source": [
    "list=[1,2,3,-6,7,-7]\n",
    "\n",
    "def positive_number(list):\n",
    "    l2=[]\n",
    "    for i in list:\n",
    "        if i>0:\n",
    "            l2.append(i)\n",
    "\n",
    "    return l2\n",
    "\n",
    "positive_number(list)"
   ]
  },
  {
   "cell_type": "markdown",
   "id": "fc1d46f6",
   "metadata": {},
   "source": [
    "12. Find the maximum number in an array of numbers"
   ]
  },
  {
   "cell_type": "code",
   "execution_count": 11,
   "id": "cb07da43",
   "metadata": {},
   "outputs": [
    {
     "data": {
      "text/plain": [
       "np.int64(37)"
      ]
     },
     "execution_count": 11,
     "metadata": {},
     "output_type": "execute_result"
    }
   ],
   "source": [
    "arr1=np.array([1,-2,37,-4,5])\n",
    "def maximun_number_in_array(arr):\n",
    "    X=max(arr)\n",
    "    return X\n",
    "\n",
    "\n",
    "maximun_number_in_array(arr1)"
   ]
  },
  {
   "cell_type": "code",
   "execution_count": 12,
   "id": "39278b52",
   "metadata": {},
   "outputs": [
    {
     "name": "stdout",
     "output_type": "stream",
     "text": [
      "Using a manual loop, the maximum number is: 34\n"
     ]
    }
   ],
   "source": [
    "from numpy import number\n",
    "\n",
    "\n",
    "list=[1,2,3,-6,7,-7]\n",
    "\n",
    "def maximum(list):\n",
    "    X=max(list)\n",
    "    return X\n",
    "\n",
    "maximum(list)\n",
    "\n",
    "\n",
    "# Without max function\n",
    "def largest_number(number_list):\n",
    "    if not number_list:\n",
    "        return None\n",
    "    #assume First Number is largest\n",
    "    max_so_far = number_list[0]\n",
    "\n",
    "    for i in number_list[1:]:\n",
    "        if i>max_so_far:\n",
    "            max_so_far=i\n",
    "\n",
    "    return max_so_far\n",
    "\n",
    "\n",
    "# --- Example Usage ---\n",
    "numbers = [15, 2, 34, 8, 19, 27]\n",
    "largest_number = largest_number(numbers)\n",
    "print(f\"Using a manual loop, the maximum number is: {largest_number}\")\n"
   ]
  },
  {
   "cell_type": "markdown",
   "id": "815b4022",
   "metadata": {},
   "source": [
    "13. Print the first 10 Fibonacci numbers without recursion"
   ]
  },
  {
   "cell_type": "code",
   "execution_count": 13,
   "id": "853db630",
   "metadata": {},
   "outputs": [
    {
     "name": "stdout",
     "output_type": "stream",
     "text": [
      "0\n",
      "1\n",
      "1\n",
      "2\n",
      "3\n",
      "5\n",
      "8\n",
      "13\n",
      "21\n",
      "34\n",
      "55\n"
     ]
    }
   ],
   "source": [
    "def fibonacci(n):\n",
    "    x=0\n",
    "    y=1\n",
    "    for i in range(0,n+1):\n",
    "        if i==0:\n",
    "            print(i)\n",
    "        elif i==1:\n",
    "            print(i)\n",
    "        else:\n",
    "            z=x+y\n",
    "            x=y\n",
    "            y=z\n",
    "            print(z)\n",
    "    \n",
    "        \n",
    "fibonacci(10)"
   ]
  },
  {
   "cell_type": "markdown",
   "id": "56ce03f2",
   "metadata": {},
   "source": [
    "14. Create a function that will find the nth Fibonacci number using recursion"
   ]
  },
  {
   "cell_type": "code",
   "execution_count": 14,
   "id": "0ffc9db1",
   "metadata": {},
   "outputs": [],
   "source": [
    "# def fibonaccii(n):\n",
    "#     if n==0:\n",
    "#         print(n)\n",
    "#     Fn = fibonaccii(n-1)+fibonaccii(n-2)\n",
    "#     return Fn\n",
    "\n",
    "# fibonaccii(5)\n",
    "\n"
   ]
  },
  {
   "cell_type": "code",
   "execution_count": 15,
   "id": "978ce2ae",
   "metadata": {},
   "outputs": [
    {
     "name": "stdout",
     "output_type": "stream",
     "text": [
      "2\n",
      "3\n",
      "4\n",
      "6\n",
      "8\n",
      "12\n",
      "24\n",
      "24 Not Prime Number\n"
     ]
    }
   ],
   "source": [
    "# prime factorization\n",
    "\n",
    "def prime_facorization(n):\n",
    "    if n%2==0:\n",
    "        for i in range(2,n+1):\n",
    "            if n%i==0:\n",
    "                print(i)\n",
    "        print(f\"{n} Not Prime Number\")\n",
    "    else:\n",
    "        print(f\"{n} prime Number\")\n",
    "\n",
    "\n",
    "\n",
    "\n",
    "prime_facorization(24)"
   ]
  },
  {
   "cell_type": "markdown",
   "id": "d954df33",
   "metadata": {},
   "source": [
    "15. Create a function that will return a Boolean specifying if a number is prime"
   ]
  },
  {
   "cell_type": "markdown",
   "id": "c296ea2e",
   "metadata": {},
   "source": [
    "16. Calculate the sum of digits of a positive integer number\n",
    "\n",
    "17. Print the first 100 prime numbers\n"
   ]
  },
  {
   "cell_type": "markdown",
   "id": "4d89479e",
   "metadata": {},
   "source": [
    "18. Create a function that will return in an array the first “p” prime numbers greater than “n”"
   ]
  },
  {
   "cell_type": "markdown",
   "id": "0cbd4058",
   "metadata": {},
   "source": [
    "19. Rotate an array to the left 1 position\n",
    "20. Rotate an array to the right 1 position\n",
    "21. Reverse an array\n",
    "22. Reverse a string"
   ]
  },
  {
   "cell_type": "markdown",
   "id": "86928dd3",
   "metadata": {},
   "source": [
    "23. Write a program that asks the user to input numbers until they input 0. The program should print the sum of all the input numbers."
   ]
  },
  {
   "cell_type": "code",
   "execution_count": 17,
   "id": "2e8ab744",
   "metadata": {},
   "outputs": [
    {
     "name": "stdout",
     "output_type": "stream",
     "text": [
      "Number:-6\n",
      "Number:-7\n",
      "Number:-8\n",
      "Number:-8\n",
      "sum of all number: 29\n"
     ]
    }
   ],
   "source": [
    "sum=0\n",
    "while True:\n",
    "    num=int(input(\"Enter a number:-\")) \n",
    "    if num!=0:\n",
    "        sum=sum+num\n",
    "        print(f\"Number:-{num}\")\n",
    "    else:\n",
    "        break\n",
    "print(f\"sum of all number: {sum}\")"
   ]
  }
 ],
 "metadata": {
  "kernelspec": {
   "display_name": ".venv",
   "language": "python",
   "name": "python3"
  },
  "language_info": {
   "codemirror_mode": {
    "name": "ipython",
    "version": 3
   },
   "file_extension": ".py",
   "mimetype": "text/x-python",
   "name": "python",
   "nbconvert_exporter": "python",
   "pygments_lexer": "ipython3",
   "version": "3.12.7"
  }
 },
 "nbformat": 4,
 "nbformat_minor": 5
}
