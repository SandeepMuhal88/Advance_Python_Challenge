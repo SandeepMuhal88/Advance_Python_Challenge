{
 "cells": [
  {
   "cell_type": "markdown",
   "metadata": {},
   "source": [
    "# Module 2: Control Flow Assignments\n",
    "## Lesson 2.1: Conditional Statements"
   ]
  },
  {
   "cell_type": "markdown",
   "id": "67ef3ce8",
   "metadata": {},
   "source": [
    "### Assignment 1: Simple if Statement\n",
    "\n",
    "Write a program that asks the user to input a number and prints whether the number is positive."
   ]
  },
  {
   "cell_type": "code",
   "execution_count": 1,
   "id": "d4c89915",
   "metadata": {},
   "outputs": [
    {
     "data": {
      "text/plain": [
       "'Positive NUmber'"
      ]
     },
     "execution_count": 1,
     "metadata": {},
     "output_type": "execute_result"
    }
   ],
   "source": [
    "num=int(input(\"Enter a number:-\"))\n",
    "\n",
    "def is_positive(num):\n",
    "    if num>0:\n",
    "        return f\"Positive NUmber\"\n",
    "    \n",
    "is_positive(num)"
   ]
  },
  {
   "cell_type": "markdown",
   "id": "7292342e",
   "metadata": {},
   "source": [
    "\n",
    "### Assignment 2: if-else Statement\n",
    "\n",
    "Write a program that asks the user to input a number and prints whether the number is positive or negative."
   ]
  },
  {
   "cell_type": "code",
   "execution_count": 2,
   "id": "a24f9a8a",
   "metadata": {},
   "outputs": [
    {
     "name": "stdout",
     "output_type": "stream",
     "text": [
      "NUmber is Negative\n"
     ]
    }
   ],
   "source": [
    "def posi_Neg(num):\n",
    "    if num<0:\n",
    "        print(\"Number is Positive:-\")\n",
    "    else:\n",
    "        print(\"NUmber is Negative\")\n",
    "    \n",
    "\n",
    "num1=int(input(\"Enter a number:-\"))\n",
    "posi_Neg(num1)"
   ]
  },
  {
   "cell_type": "markdown",
   "id": "d2d6a7f7",
   "metadata": {},
   "source": [
    "### Assignment 3: if-elif-else Statement\n",
    "\n",
    "Write a program that asks the user to input a number and prints whether the number is positive, negative, or zero."
   ]
  },
  {
   "cell_type": "code",
   "execution_count": 3,
   "id": "d5c63e14",
   "metadata": {},
   "outputs": [
    {
     "name": "stdout",
     "output_type": "stream",
     "text": [
      "Number is positive!!\n"
     ]
    }
   ],
   "source": [
    "num2=int(input(\"Enter a Number:-\"))\n",
    "\n",
    "def check_posi(num):\n",
    "    if num<0:\n",
    "        print(\"Number is Negative!!\")\n",
    "    elif num>0:\n",
    "        print(\"Number is positive!!\")\n",
    "    else:\n",
    "        print(\"Number is zero\")\n",
    "    \n",
    "\n",
    "check_posi(num2)"
   ]
  },
  {
   "cell_type": "markdown",
   "id": "3b147008",
   "metadata": {},
   "source": [
    "### Assignment 4: Nested if Statement\n",
    "\n",
    "Write a program that asks the user to input a number and prints whether the number is positive and even, positive and odd, or negative.\n"
   ]
  },
  {
   "cell_type": "code",
   "execution_count": 4,
   "id": "30af1924",
   "metadata": {},
   "outputs": [
    {
     "name": "stdout",
     "output_type": "stream",
     "text": [
      "Number is Odd\n"
     ]
    }
   ],
   "source": [
    "num=int(input(\"Enter a number :-\"))\n",
    "if num>=0:\n",
    "    if num%2==0:\n",
    "        print(\"Number is Even\")\n",
    "    else:\n",
    "        print(\"Number is Odd\")\n",
    "else:\n",
    "    print(\"Number is Negative\")"
   ]
  },
  {
   "cell_type": "markdown",
   "id": "d3777bb3",
   "metadata": {},
   "source": [
    "### Lesson 2.2: Loops\n",
    "#### Assignment 5: for Loop\n",
    "\n",
    "Write a program that prints all the numbers from 1 to 10 using a for loop."
   ]
  },
  {
   "cell_type": "code",
   "execution_count": 5,
   "id": "77834f14",
   "metadata": {},
   "outputs": [
    {
     "name": "stdout",
     "output_type": "stream",
     "text": [
      "1\n",
      "2\n",
      "3\n",
      "4\n",
      "5\n",
      "6\n",
      "7\n",
      "8\n",
      "9\n",
      "10\n"
     ]
    }
   ],
   "source": [
    "for i in range(1,11):\n",
    "    print(i)"
   ]
  },
  {
   "cell_type": "markdown",
   "id": "217c8e6c",
   "metadata": {},
   "source": [
    "### Assignment 6: while Loop\n",
    "\n",
    "Write a program that prints all the numbers from 1 to 10 using a while loop."
   ]
  },
  {
   "cell_type": "code",
   "execution_count": 6,
   "id": "d0c983cb",
   "metadata": {},
   "outputs": [
    {
     "name": "stdout",
     "output_type": "stream",
     "text": [
      "1\n",
      "2\n",
      "3\n",
      "4\n",
      "5\n",
      "6\n",
      "7\n",
      "8\n",
      "9\n",
      "10\n"
     ]
    }
   ],
   "source": [
    "i=1\n",
    "while i!=11:\n",
    "    print(i)\n",
    "    i=i+1\n"
   ]
  },
  {
   "cell_type": "markdown",
   "id": "4acb0e6a",
   "metadata": {},
   "source": [
    "### Assignment 7: Nested Loops\n",
    "\n",
    "Write a program that prints a 5x5 grid of asterisks (*) using nested loops."
   ]
  },
  {
   "cell_type": "code",
   "execution_count": 7,
   "id": "ab95d149",
   "metadata": {},
   "outputs": [
    {
     "name": "stdout",
     "output_type": "stream",
     "text": [
      "* * * * * * * * \n",
      "* * * * * * * * \n",
      "* * * * * * * * \n",
      "* * * * * * * * \n",
      "* * * * * * * * \n",
      "* * * * * * * * \n",
      "* * * * * * * * \n",
      "* * * * * * * * \n"
     ]
    }
   ],
   "source": [
    "n=int(input(\"Enter number to print grid NXN:-\"))\n",
    "\n",
    "def grid(n):\n",
    "    for i in range(1,n+1):\n",
    "        for j in range(1,n+1):\n",
    "            print(\"*\",end=\" \")\n",
    "        print(\"\")\n",
    "\n",
    "grid(n)"
   ]
  },
  {
   "cell_type": "markdown",
   "id": "32007fe1",
   "metadata": {},
   "source": [
    "### Assignment 8: break Statement\n",
    "\n",
    "Write a program that asks the user to input numbers until they input 0. The program should print the sum of all the input numbers."
   ]
  },
  {
   "cell_type": "code",
   "execution_count": 8,
   "id": "b0cd0353",
   "metadata": {},
   "outputs": [
    {
     "name": "stdout",
     "output_type": "stream",
     "text": [
      "Enter number:- 23\n",
      "Enter number:- 34\n",
      "Enter number:- 4\n",
      "Enter number:- 2\n",
      "Enter number:- 3\n",
      "Enter number:- 1\n",
      "Sum of all number you enterd:- 67\n"
     ]
    }
   ],
   "source": [
    "def sum_n():\n",
    "    sum=0\n",
    "    while True:\n",
    "        num=int(input(\"Enter a number:-\"))\n",
    "        if num!=0:\n",
    "            sum+=num\n",
    "            print(\"Enter number:-\",num)\n",
    "        else:\n",
    "            break\n",
    "    print(\"Sum of all number you enterd:-\",sum)\n",
    "\n",
    "\n",
    "sum_n()"
   ]
  },
  {
   "cell_type": "markdown",
   "id": "de42742a",
   "metadata": {},
   "source": [
    "### Assignment 9: continue Statement\n",
    "\n",
    "Write a program that prints all the numbers from 1 to 10 except 5 using a for loop and continue statement."
   ]
  },
  {
   "cell_type": "code",
   "execution_count": 9,
   "id": "0bb970a4",
   "metadata": {},
   "outputs": [
    {
     "name": "stdout",
     "output_type": "stream",
     "text": [
      "1\n",
      "2\n",
      "3\n",
      "4\n",
      "6\n",
      "7\n",
      "8\n",
      "9\n",
      "10\n"
     ]
    }
   ],
   "source": [
    "for i in range(1,11):\n",
    "    if i==5:\n",
    "        continue\n",
    "    print(i)"
   ]
  },
  {
   "cell_type": "markdown",
   "id": "5e8d68d0",
   "metadata": {},
   "source": [
    "### Assignment 10: pass Statement\n",
    "\n",
    "Write a program that defines an empty function using the pass statement."
   ]
  },
  {
   "cell_type": "code",
   "execution_count": 10,
   "id": "8682299e",
   "metadata": {},
   "outputs": [],
   "source": [
    "def empty():\n",
    "    pass\n",
    "empty()"
   ]
  },
  {
   "cell_type": "markdown",
   "id": "fa997e39",
   "metadata": {},
   "source": [
    "### Assignment 11: Combining Loops and Conditionals\n",
    "\n",
    "Write a program that asks the user to input a number and prints all the even numbers from 1 to that number using a for loop."
   ]
  },
  {
   "cell_type": "code",
   "execution_count": 11,
   "id": "33ef7485",
   "metadata": {},
   "outputs": [
    {
     "name": "stdout",
     "output_type": "stream",
     "text": [
      "Even Number;- 2\n",
      "Even Number;- 4\n",
      "Even Number;- 6\n",
      "Even Number;- 8\n"
     ]
    }
   ],
   "source": [
    "n=int(input(\"Enter a number:-\"))\n",
    "for i in range(1,n+1):\n",
    "    if i%2==0:\n",
    "        print(\"Even Number;-\",i)\n",
    "    else:\n",
    "        continue\n"
   ]
  },
  {
   "cell_type": "markdown",
   "id": "a9bc14bf",
   "metadata": {},
   "source": [
    "### Assignment 12: Factorial Calculation\n",
    "\n",
    "Write a program that calculates the factorial of a number input by the user using a while loop."
   ]
  },
  {
   "cell_type": "code",
   "execution_count": 12,
   "id": "de8c764e",
   "metadata": {},
   "outputs": [
    {
     "name": "stdout",
     "output_type": "stream",
     "text": [
      "Enter number factorial is;- 30414093201713378043612608166064768844377641568960512000000000000\n"
     ]
    }
   ],
   "source": [
    "def factorial(num):\n",
    "    fact=1\n",
    "    if num<0:\n",
    "        print(\"Number is Negative:-\",num)\n",
    "    elif num==1:\n",
    "        print(\"Enter number factoriyal:-\",num)\n",
    "    else:\n",
    "        while num!=0:\n",
    "            fact=fact*num\n",
    "            num-=1\n",
    "        print(\"Enter number factorial is;-\",fact)\n",
    "    \n",
    "factorial(50)"
   ]
  },
  {
   "cell_type": "markdown",
   "id": "83de9bb0",
   "metadata": {},
   "source": [
    "### Assignment 13: Sum of Digits\n",
    "\n",
    "Write a program that calculates the sum of the digits of a number input by the user using a while loop."
   ]
  },
  {
   "cell_type": "code",
   "execution_count": 26,
   "id": "6e3c7a62",
   "metadata": {},
   "outputs": [
    {
     "name": "stdout",
     "output_type": "stream",
     "text": [
      "Sum of Number():- 17\n"
     ]
    }
   ],
   "source": [
    "num1=int(input(\"Enter a number to calculate sum:- \"))\n",
    "def summ(n):\n",
    "    sum=0\n",
    "    while n!=0:\n",
    "        y=n//10\n",
    "        x=n%10\n",
    "        sum=sum+x\n",
    "        n=y\n",
    "    print(\"Sum of Number():-\",sum)\n",
    "summ(num1)"
   ]
  },
  {
   "cell_type": "markdown",
   "id": "25582d46",
   "metadata": {},
   "source": [
    "### Assignment 14: Prime Number Check\n",
    "\n",
    "Write a program that checks if a number input by the user is a prime number using a f"
   ]
  },
  {
   "cell_type": "code",
   "execution_count": 31,
   "id": "d69f5eb4",
   "metadata": {},
   "outputs": [
    {
     "data": {
      "text/plain": [
       "False"
      ]
     },
     "execution_count": 31,
     "metadata": {},
     "output_type": "execute_result"
    }
   ],
   "source": [
    "def is_prime(n):\n",
    "    if n<0:\n",
    "        return f\"{n} is Negative\"\n",
    "    else:\n",
    "        for i in range(2,n):\n",
    "            if n%i==0:\n",
    "                return False\n",
    "        return True\n",
    "\n",
    "\n",
    "is_prime(12)"
   ]
  },
  {
   "cell_type": "markdown",
   "id": "2a228bf3",
   "metadata": {},
   "source": [
    "### Assignment 15: Fibonacci Sequence\n",
    "\n",
    "Write a program that prints the first n Fibonacci numbers, where n is input by the user."
   ]
  },
  {
   "cell_type": "code",
   "execution_count": 32,
   "id": "180281c4",
   "metadata": {},
   "outputs": [
    {
     "name": "stdout",
     "output_type": "stream",
     "text": [
      "0\n",
      "1\n",
      "1\n",
      "2\n",
      "3\n",
      "5\n",
      "8\n",
      "13\n",
      "21\n",
      "34\n",
      "55\n"
     ]
    }
   ],
   "source": [
    "def fibonacci(n):\n",
    "    x=0\n",
    "    y=1\n",
    "    for i in range(0,n+1):\n",
    "        if i==0:\n",
    "            print(i)\n",
    "        elif i==1:\n",
    "            print(i)\n",
    "        else:\n",
    "            z=x+y\n",
    "            x=y\n",
    "            y=z\n",
    "            print(z)\n",
    "    \n",
    "        \n",
    "fibonacci(10)\n"
   ]
  }
 ],
 "metadata": {
  "kernelspec": {
   "display_name": ".venv",
   "language": "python",
   "name": "python3"
  },
  "language_info": {
   "codemirror_mode": {
    "name": "ipython",
    "version": 3
   },
   "file_extension": ".py",
   "mimetype": "text/x-python",
   "name": "python",
   "nbconvert_exporter": "python",
   "pygments_lexer": "ipython3",
   "version": "3.12.7"
  }
 },
 "nbformat": 4,
 "nbformat_minor": 5
}
