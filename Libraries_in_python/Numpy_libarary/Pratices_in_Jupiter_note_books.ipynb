{
 "cells": [
  {
   "cell_type": "code",
   "execution_count": 1,
   "metadata": {},
   "outputs": [
    {
     "name": "stdout",
     "output_type": "stream",
     "text": [
      "[1 2 3]\n"
     ]
    }
   ],
   "source": [
    "import numpy as np\n",
    "a=np.array([1,2,3])\n",
    "print(a)"
   ]
  },
  {
   "cell_type": "code",
   "execution_count": 3,
   "metadata": {},
   "outputs": [
    {
     "name": "stdout",
     "output_type": "stream",
     "text": [
      "[[1 2 3]\n",
      " [4 5 6]]\n",
      "[[[1 2 3]\n",
      "  [4 5 6]]\n",
      "\n",
      " [[1 2 3]\n",
      "  [4 5 6]]]\n"
     ]
    }
   ],
   "source": [
    "# Creating 2D array\n",
    "import numpy as np\n",
    "a=np.array([[1,2,3],[4,5,6]])\n",
    "print(a)\n",
    "# Creating 3D array\n",
    "print(\"Creating 3D array\")\n",
    "import numpy as np\n",
    "a=np.array([[[1,2,3],[4,5,6]],[[1,2,3],[4,5,6]]])\n",
    "print(a)"
   ]
  },
  {
   "cell_type": "code",
   "execution_count": 6,
   "metadata": {},
   "outputs": [
    {
     "name": "stdout",
     "output_type": "stream",
     "text": [
      "Creating 4D array\n",
      "[[[[ 2  5  6  3  9  3  1 20  3 20 63]\n",
      "   [ 2  5  6  3  9  3  1 20  3 20 63]\n",
      "   [ 2  5  6  3  9  3  1 20  3 20 63]]\n",
      "\n",
      "  [[ 2  5  6  3  9  3  1 20  3 20 63]\n",
      "   [ 2  5  6  3  9  3  1 20  3 20 63]\n",
      "   [ 2  5  6  3  9  3  1 20  3 20 63]]]]\n"
     ]
    }
   ],
   "source": [
    "# creating 4-d array\n",
    "import numpy as np\n",
    "print(\"Creating 4D array\")\n",
    "arr4=np.array([[[[2,5,6,3,9,3,1,20,3,20,63],[2,5,6,3,9,3,1,20,3,20,63],[2,5,6,3,9,3,1,20,3,20,63]],[[2,5,6,3,9,3,1,20,3,20,63],[2,5,6,3,9,3,1,20,3,20,63],[2,5,6,3,9,3,1,20,3,20,63]]]])\n",
    "print(arr4)"
   ]
  },
  {
   "cell_type": "code",
   "execution_count": 1,
   "metadata": {},
   "outputs": [
    {
     "name": "stdout",
     "output_type": "stream",
     "text": [
      "User input array\n",
      "[12 23 63 65 21]\n"
     ]
    }
   ],
   "source": [
    "import numpy as np\n",
    "print(\"User input array\")\n",
    "num=int(input(\"Enter size of array:\"))\n",
    "a=[]\n",
    "for i in range(num):\n",
    "    a.append(int(input(f\"Enter number for {i+1} index:\")))\n",
    "a=np.array(a)\n",
    "print(a)"
   ]
  },
  {
   "cell_type": "code",
   "execution_count": 2,
   "metadata": {},
   "outputs": [
    {
     "name": "stdout",
     "output_type": "stream",
     "text": [
      "User input 2D array\n",
      "[[12 13]\n",
      " [25 36]]\n",
      "2\n"
     ]
    }
   ],
   "source": [
    "# User input 2D array\n",
    "import numpy as np\n",
    "print(\"User input 2D array\")\n",
    "row=int(input(\"Enter number of rows:\"))\n",
    "col=int(input(\"Enter number of columns:\"))\n",
    "a=[]\n",
    "for i in range(row):\n",
    "    a.append([])\n",
    "    for j in range(col):\n",
    "        a[i].append(int(input(f\"Enter number for {i+1} row and {j+1} column:\")))\n",
    "a=np.array(a)\n",
    "print(a)\n",
    "print(a.ndim)"
   ]
  },
  {
   "cell_type": "code",
   "execution_count": 3,
   "metadata": {},
   "outputs": [
    {
     "name": "stdout",
     "output_type": "stream",
     "text": [
      "2.2.2\n"
     ]
    }
   ],
   "source": [
    "# check version of numpy\n",
    "import numpy as np\n",
    "print(np.__version__)"
   ]
  },
  {
   "cell_type": "code",
   "execution_count": 12,
   "metadata": {},
   "outputs": [
    {
     "name": "stdout",
     "output_type": "stream",
     "text": [
      "1\n",
      "2\n",
      "3\n",
      "there is given first row first element of array is=  1\n",
      "there is given Second row third element of array is=  6\n"
     ]
    }
   ],
   "source": [
    "# Accessing elements of array\n",
    "import numpy as np\n",
    "a=np.array([1,2,3,4,5])\n",
    "print(a[0])\n",
    "print(a[1])\n",
    "print(a[2])\n",
    "\n",
    "# 2d array\n",
    "arr2=np.array([[1,2,3],[4,5,6]])\n",
    "print(\"there is given first row first element of array is= \",arr2[0][0])\n",
    "print(\"there is given Second row third element of array is= \",arr2[1][2])"
   ]
  },
  {
   "cell_type": "code",
   "execution_count": 20,
   "metadata": {},
   "outputs": [
    {
     "name": "stdout",
     "output_type": "stream",
     "text": [
      "1\n",
      "[[[[ 12  63  63  98   2   3]\n",
      "   [  2  60   3   9   2  13]\n",
      "   [  4 600   3  63   2   4]]\n",
      "\n",
      "  [[ 12  63  63  98   2   3]\n",
      "   [ 12  63  63  98   2   3]\n",
      "   [ 12  63  63  98   2   3]]]]\n",
      "12\n",
      "600\n"
     ]
    }
   ],
   "source": [
    "# Create a 3d array and access the elements\n",
    "import numpy as np\n",
    "a=np.array([[[1,2,3],[4,5,6]],[[ 1,2,3],[4,5,6]]])\n",
    "print(a[0][0][0])\n",
    "#4d array\n",
    "arr=np.array([[[[12,63,63,98,2,3],[2,60,3,9,2,13],[4,600,3,63,2,4]],[[12,63,63,98,2,3],[12,63,63,98,2,3],[12,63,63,98,2,3]]]])\n",
    "print(arr)\n",
    "print(arr[0][0][0][0])\n",
    "print(arr[0][0][2][1])"
   ]
  },
  {
   "cell_type": "code",
   "execution_count": 23,
   "metadata": {},
   "outputs": [
    {
     "name": "stdout",
     "output_type": "stream",
     "text": [
      "[2 3 4 5]\n",
      "[2 3 4 5 6 7 8 9]\n",
      "[1 2 3 4 5]\n"
     ]
    }
   ],
   "source": [
    "# Slicing of array\n",
    "# We pass slice instead of index like this: [start:end].\n",
    "# We can also define the step, like this: [start:end:step].\n",
    "# If we don't pass start its considered 0\n",
    "# If we don't pass end its considered length of array in that dimension\n",
    "# If we don't pass step its considered 1\n",
    "import numpy as np\n",
    "a=np.array([1,2,3,4,5,6,7,8,9])\n",
    "print(a[1:5])\n",
    "print(a[1:])\n",
    "print(a[:5])"
   ]
  }
 ],
 "metadata": {
  "kernelspec": {
   "display_name": ".venv",
   "language": "python",
   "name": "python3"
  },
  "language_info": {
   "codemirror_mode": {
    "name": "ipython",
    "version": 3
   },
   "file_extension": ".py",
   "mimetype": "text/x-python",
   "name": "python",
   "nbconvert_exporter": "python",
   "pygments_lexer": "ipython3",
   "version": "3.12.5"
  }
 },
 "nbformat": 4,
 "nbformat_minor": 2
}
