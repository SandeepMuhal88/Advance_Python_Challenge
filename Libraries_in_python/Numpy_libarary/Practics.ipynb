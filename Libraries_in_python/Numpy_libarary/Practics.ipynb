{
 "cells": [
  {
   "cell_type": "code",
   "execution_count": 2,
   "id": "cf5ff044",
   "metadata": {},
   "outputs": [
    {
     "name": "stdout",
     "output_type": "stream",
     "text": [
      "34.925\n"
     ]
    }
   ],
   "source": [
    "import numpy as np\n",
    "# Problem in List then come Numpy\n",
    "\n",
    "tempreature=[32.6,35.6,34.9,36.6]\n",
    "toatl=0\n",
    "for temp in tempreature:\n",
    "    toatl+=temp\n",
    "    \n",
    "avrage_temp=toatl/len(tempreature)\n",
    "print(avrage_temp)\n",
    "\n"
   ]
  },
  {
   "cell_type": "code",
   "execution_count": 4,
   "id": "29f3475f",
   "metadata": {},
   "outputs": [
    {
     "name": "stdout",
     "output_type": "stream",
     "text": [
      "34.925\n"
     ]
    }
   ],
   "source": [
    "\n",
    "import numpy as np\n",
    "\n",
    "tempreture=[32.6,35.6,34.9,36.6]\n",
    "tempreture_array=np.array(tempreature)\n",
    "avrage_temp=np.average(tempreture_array)\n",
    "print(avrage_temp)"
   ]
  },
  {
   "cell_type": "code",
   "execution_count": 6,
   "id": "c731ec38",
   "metadata": {},
   "outputs": [
    {
     "name": "stdout",
     "output_type": "stream",
     "text": [
      "[1, 2, 3, 4, 5, 6, 7, 8, 9, 10]\n",
      "[ 1  2  3  4  5  6  7  8  9 10]\n"
     ]
    }
   ],
   "source": [
    "#  That use large datasets\n",
    "\n",
    "python_list=[1,2,3,4,5,6,7,8,9,10]\n",
    "print(python_list)\n",
    "\n",
    "numpy_array=np.array([1,2,3,4,5,6,7,8,9,10])\n",
    "print(numpy_array)"
   ]
  },
  {
   "cell_type": "code",
   "execution_count": 9,
   "id": "e02882ae",
   "metadata": {},
   "outputs": [
    {
     "name": "stdout",
     "output_type": "stream",
     "text": [
      "[[1 2 3]\n",
      " [4 5 6]\n",
      " [7 8 9]]\n"
     ]
    }
   ],
   "source": [
    "# Multi-dimentional array\n",
    "\n",
    "# Metrices\n",
    "\n",
    "metrices=np.array([[1,2,3],\n",
    "                   [4,5,6],\n",
    "                   [7,8,9]])\n",
    "\n",
    "print(metrices)\n"
   ]
  },
  {
   "cell_type": "code",
   "execution_count": 13,
   "id": "2f37dad9",
   "metadata": {},
   "outputs": [
    {
     "name": "stdout",
     "output_type": "stream",
     "text": [
      "[[0. 0. 0.]\n",
      " [0. 0. 0.]\n",
      " [0. 0. 0.]]\n",
      "[[0. 0. 0.]\n",
      " [0. 0. 0.]\n",
      " [0. 0. 0.]]\n",
      "[[0. 0. 0.]\n",
      " [0. 0. 0.]\n",
      " [0. 0. 0.]\n",
      " [0. 0. 0.]]\n",
      "[[0. 0. 0. 0.]\n",
      " [0. 0. 0. 0.]\n",
      " [0. 0. 0. 0.]]\n",
      "[[0. 0. 0. 0. 0.]\n",
      " [0. 0. 0. 0. 0.]\n",
      " [0. 0. 0. 0. 0.]\n",
      " [0. 0. 0. 0. 0.]\n",
      " [0. 0. 0. 0. 0.]]\n",
      "[[0. 0. 0. 0. 0. 0.]\n",
      " [0. 0. 0. 0. 0. 0.]\n",
      " [0. 0. 0. 0. 0. 0.]\n",
      " [0. 0. 0. 0. 0. 0.]\n",
      " [0. 0. 0. 0. 0. 0.]\n",
      " [0. 0. 0. 0. 0. 0.]]\n",
      "[[0. 0. 0. 0. 0. 0. 0.]\n",
      " [0. 0. 0. 0. 0. 0. 0.]\n",
      " [0. 0. 0. 0. 0. 0. 0.]\n",
      " [0. 0. 0. 0. 0. 0. 0.]\n",
      " [0. 0. 0. 0. 0. 0. 0.]\n",
      " [0. 0. 0. 0. 0. 0. 0.]\n",
      " [0. 0. 0. 0. 0. 0. 0.]]\n"
     ]
    }
   ],
   "source": [
    "# Multi-dimentional array\n",
    "# With defualt value array\n",
    "#  with zeros(shape)\n",
    "numpy_array=np.zeros((3,3))\n",
    "print(numpy_array)\n",
    "numpy_array=np.zeros((3,3))\n",
    "print(numpy_array)\n",
    "numpy_array=np.zeros((4,3))\n",
    "print(numpy_array)\n",
    "numpy_array=np.zeros((3,4))\n",
    "print(numpy_array)\n",
    "numpy_array=np.zeros((5,5))\n",
    "print(numpy_array)\n",
    "numpy_array=np.zeros((6,6))\n",
    "print(numpy_array)\n",
    "numpy_array=np.zeros((7,7))\n",
    "print(numpy_array)\n"
   ]
  },
  {
   "cell_type": "code",
   "execution_count": 14,
   "id": "17477f5e",
   "metadata": {},
   "outputs": [
    {
     "name": "stdout",
     "output_type": "stream",
     "text": [
      "[[1. 1. 1.]\n",
      " [1. 1. 1.]\n",
      " [1. 1. 1.]]\n"
     ]
    }
   ],
   "source": [
    "# defualt value array\n",
    "\n",
    "metrices=np.ones((3,3))\n",
    "print(metrices)\n"
   ]
  },
  {
   "cell_type": "code",
   "execution_count": 31,
   "id": "99caeb29",
   "metadata": {},
   "outputs": [
    {
     "name": "stdout",
     "output_type": "stream",
     "text": [
      "[[5 5 5]\n",
      " [5 5 5]\n",
      " [5 5 5]]\n",
      "identity matrix\n",
      "[[1. 0. 0.]\n",
      " [0. 1. 0.]\n",
      " [0. 0. 1.]]\n",
      "eye matrix\n",
      "[[1. 0. 0.]\n",
      " [0. 1. 0.]\n",
      " [0. 0. 1.]]\n"
     ]
    }
   ],
   "source": [
    "# Default value array\n",
    "\n",
    "metrices=np.full((3,3),5)\n",
    "print(metrices)\n",
    "\n",
    "# identity matrix\n",
    "print(\"identity matrix\")\n",
    "metrices=np.identity(3)\n",
    "print(metrices)\n",
    "\n",
    "\n",
    "metrices=np.eye(3)\n",
    "print(\"eye matrix\")\n",
    "print(metrices)"
   ]
  },
  {
   "cell_type": "code",
   "execution_count": 28,
   "id": "b23f48d4",
   "metadata": {},
   "outputs": [
    {
     "name": "stdout",
     "output_type": "stream",
     "text": [
      "[12 14 16 18 20 22 24 26 28 30 32 34 36 38 40 42 44 46 48]\n"
     ]
    }
   ],
   "source": [
    "# arange array\n",
    "# Arange is used to create an array with a range of values\n",
    "# arange(start,stop,step)\n",
    "array=np.arange(12,50,2)\n",
    "print(array)\n",
    "\n",
    "\n"
   ]
  },
  {
   "cell_type": "code",
   "execution_count": null,
   "id": "e68efbd3",
   "metadata": {},
   "outputs": [],
   "source": []
  }
 ],
 "metadata": {
  "kernelspec": {
   "display_name": ".venv",
   "language": "python",
   "name": "python3"
  },
  "language_info": {
   "codemirror_mode": {
    "name": "ipython",
    "version": 3
   },
   "file_extension": ".py",
   "mimetype": "text/x-python",
   "name": "python",
   "nbconvert_exporter": "python",
   "pygments_lexer": "ipython3",
   "version": "3.12.5"
  }
 },
 "nbformat": 4,
 "nbformat_minor": 5
}
